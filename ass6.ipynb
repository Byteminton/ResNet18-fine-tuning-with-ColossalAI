{
  "cells": [
    {
      "cell_type": "code",
      "execution_count": 1,
      "metadata": {
        "colab": {
          "base_uri": "https://localhost:8080/"
        },
        "id": "A7zqOKGwdKOI",
        "outputId": "ceceece4-905b-4771-e855-188274dca463"
      },
      "outputs": [
        {
          "output_type": "stream",
          "name": "stdout",
          "text": [
            "Cloning into 'ColossalAI'...\n",
            "remote: Enumerating objects: 41584, done.\u001b[K\n",
            "remote: Counting objects: 100% (50/50), done.\u001b[K\n",
            "remote: Compressing objects: 100% (25/25), done.\u001b[K\n",
            "remote: Total 41584 (delta 35), reused 33 (delta 25), pack-reused 41534\u001b[K\n",
            "Receiving objects: 100% (41584/41584), 29.67 MiB | 19.79 MiB/s, done.\n",
            "Resolving deltas: 100% (28317/28317), done.\n"
          ]
        }
      ],
      "source": [
        "! git clone https://github.com/hpcaitech/ColossalAI.git"
      ]
    },
    {
      "cell_type": "code",
      "source": [
        "cd ColossalAI/examples/images/resnet"
      ],
      "metadata": {
        "colab": {
          "base_uri": "https://localhost:8080/"
        },
        "id": "GyceRqQenY0E",
        "outputId": "01f43b7a-38c6-4228-a10b-4fc875d904a2"
      },
      "execution_count": 1,
      "outputs": [
        {
          "output_type": "stream",
          "name": "stdout",
          "text": [
            "/content/ColossalAI/examples/images/resnet\n"
          ]
        }
      ]
    },
    {
      "cell_type": "code",
      "source": [
        "! pip install -r requirements.txt"
      ],
      "metadata": {
        "colab": {
          "base_uri": "https://localhost:8080/"
        },
        "id": "PTByFr_qnblb",
        "outputId": "257aa014-33e9-4b25-b90b-904c846217d1"
      },
      "execution_count": 2,
      "outputs": [
        {
          "output_type": "stream",
          "name": "stdout",
          "text": [
            "Requirement already satisfied: colossalai in /usr/local/lib/python3.10/dist-packages (from -r requirements.txt (line 1)) (0.3.6)\n",
            "Requirement already satisfied: torch in /usr/local/lib/python3.10/dist-packages (from -r requirements.txt (line 2)) (2.2.1+cu121)\n",
            "Requirement already satisfied: torchvision in /usr/local/lib/python3.10/dist-packages (from -r requirements.txt (line 3)) (0.17.1+cu121)\n",
            "Requirement already satisfied: tqdm in /usr/local/lib/python3.10/dist-packages (from -r requirements.txt (line 4)) (4.66.2)\n",
            "Requirement already satisfied: pytest in /usr/local/lib/python3.10/dist-packages (from -r requirements.txt (line 5)) (7.4.4)\n",
            "Requirement already satisfied: numpy in /usr/local/lib/python3.10/dist-packages (from colossalai->-r requirements.txt (line 1)) (1.25.2)\n",
            "Requirement already satisfied: psutil in /usr/local/lib/python3.10/dist-packages (from colossalai->-r requirements.txt (line 1)) (5.9.5)\n",
            "Requirement already satisfied: packaging in /usr/local/lib/python3.10/dist-packages (from colossalai->-r requirements.txt (line 1)) (24.0)\n",
            "Requirement already satisfied: pre-commit in /usr/local/lib/python3.10/dist-packages (from colossalai->-r requirements.txt (line 1)) (3.7.0)\n",
            "Requirement already satisfied: rich in /usr/local/lib/python3.10/dist-packages (from colossalai->-r requirements.txt (line 1)) (13.7.1)\n",
            "Requirement already satisfied: click in /usr/local/lib/python3.10/dist-packages (from colossalai->-r requirements.txt (line 1)) (8.1.7)\n",
            "Requirement already satisfied: fabric in /usr/local/lib/python3.10/dist-packages (from colossalai->-r requirements.txt (line 1)) (3.2.2)\n",
            "Requirement already satisfied: contexttimer in /usr/local/lib/python3.10/dist-packages (from colossalai->-r requirements.txt (line 1)) (0.3.3)\n",
            "Requirement already satisfied: ninja in /usr/local/lib/python3.10/dist-packages (from colossalai->-r requirements.txt (line 1)) (1.11.1.1)\n",
            "Requirement already satisfied: safetensors in /usr/local/lib/python3.10/dist-packages (from colossalai->-r requirements.txt (line 1)) (0.4.2)\n",
            "Requirement already satisfied: einops in /usr/local/lib/python3.10/dist-packages (from colossalai->-r requirements.txt (line 1)) (0.7.0)\n",
            "Requirement already satisfied: pydantic in /usr/local/lib/python3.10/dist-packages (from colossalai->-r requirements.txt (line 1)) (2.6.4)\n",
            "Requirement already satisfied: ray in /usr/local/lib/python3.10/dist-packages (from colossalai->-r requirements.txt (line 1)) (2.10.0)\n",
            "Requirement already satisfied: sentencepiece in /usr/local/lib/python3.10/dist-packages (from colossalai->-r requirements.txt (line 1)) (0.1.99)\n",
            "Requirement already satisfied: google in /usr/local/lib/python3.10/dist-packages (from colossalai->-r requirements.txt (line 1)) (2.0.3)\n",
            "Requirement already satisfied: protobuf in /usr/local/lib/python3.10/dist-packages (from colossalai->-r requirements.txt (line 1)) (3.20.3)\n",
            "Requirement already satisfied: filelock in /usr/local/lib/python3.10/dist-packages (from torch->-r requirements.txt (line 2)) (3.13.4)\n",
            "Requirement already satisfied: typing-extensions>=4.8.0 in /usr/local/lib/python3.10/dist-packages (from torch->-r requirements.txt (line 2)) (4.11.0)\n",
            "Requirement already satisfied: sympy in /usr/local/lib/python3.10/dist-packages (from torch->-r requirements.txt (line 2)) (1.12)\n",
            "Requirement already satisfied: networkx in /usr/local/lib/python3.10/dist-packages (from torch->-r requirements.txt (line 2)) (3.3)\n",
            "Requirement already satisfied: jinja2 in /usr/local/lib/python3.10/dist-packages (from torch->-r requirements.txt (line 2)) (3.1.3)\n",
            "Requirement already satisfied: fsspec in /usr/local/lib/python3.10/dist-packages (from torch->-r requirements.txt (line 2)) (2023.6.0)\n",
            "Requirement already satisfied: nvidia-cuda-nvrtc-cu12==12.1.105 in /usr/local/lib/python3.10/dist-packages (from torch->-r requirements.txt (line 2)) (12.1.105)\n",
            "Requirement already satisfied: nvidia-cuda-runtime-cu12==12.1.105 in /usr/local/lib/python3.10/dist-packages (from torch->-r requirements.txt (line 2)) (12.1.105)\n",
            "Requirement already satisfied: nvidia-cuda-cupti-cu12==12.1.105 in /usr/local/lib/python3.10/dist-packages (from torch->-r requirements.txt (line 2)) (12.1.105)\n",
            "Requirement already satisfied: nvidia-cudnn-cu12==8.9.2.26 in /usr/local/lib/python3.10/dist-packages (from torch->-r requirements.txt (line 2)) (8.9.2.26)\n",
            "Requirement already satisfied: nvidia-cublas-cu12==12.1.3.1 in /usr/local/lib/python3.10/dist-packages (from torch->-r requirements.txt (line 2)) (12.1.3.1)\n",
            "Requirement already satisfied: nvidia-cufft-cu12==11.0.2.54 in /usr/local/lib/python3.10/dist-packages (from torch->-r requirements.txt (line 2)) (11.0.2.54)\n",
            "Requirement already satisfied: nvidia-curand-cu12==10.3.2.106 in /usr/local/lib/python3.10/dist-packages (from torch->-r requirements.txt (line 2)) (10.3.2.106)\n",
            "Requirement already satisfied: nvidia-cusolver-cu12==11.4.5.107 in /usr/local/lib/python3.10/dist-packages (from torch->-r requirements.txt (line 2)) (11.4.5.107)\n",
            "Requirement already satisfied: nvidia-cusparse-cu12==12.1.0.106 in /usr/local/lib/python3.10/dist-packages (from torch->-r requirements.txt (line 2)) (12.1.0.106)\n",
            "Requirement already satisfied: nvidia-nccl-cu12==2.19.3 in /usr/local/lib/python3.10/dist-packages (from torch->-r requirements.txt (line 2)) (2.19.3)\n",
            "Requirement already satisfied: nvidia-nvtx-cu12==12.1.105 in /usr/local/lib/python3.10/dist-packages (from torch->-r requirements.txt (line 2)) (12.1.105)\n",
            "Requirement already satisfied: triton==2.2.0 in /usr/local/lib/python3.10/dist-packages (from torch->-r requirements.txt (line 2)) (2.2.0)\n",
            "Requirement already satisfied: nvidia-nvjitlink-cu12 in /usr/local/lib/python3.10/dist-packages (from nvidia-cusolver-cu12==11.4.5.107->torch->-r requirements.txt (line 2)) (12.4.127)\n",
            "Requirement already satisfied: pillow!=8.3.*,>=5.3.0 in /usr/local/lib/python3.10/dist-packages (from torchvision->-r requirements.txt (line 3)) (9.4.0)\n",
            "Requirement already satisfied: iniconfig in /usr/local/lib/python3.10/dist-packages (from pytest->-r requirements.txt (line 5)) (2.0.0)\n",
            "Requirement already satisfied: pluggy<2.0,>=0.12 in /usr/local/lib/python3.10/dist-packages (from pytest->-r requirements.txt (line 5)) (1.4.0)\n",
            "Requirement already satisfied: exceptiongroup>=1.0.0rc8 in /usr/local/lib/python3.10/dist-packages (from pytest->-r requirements.txt (line 5)) (1.2.0)\n",
            "Requirement already satisfied: tomli>=1.0.0 in /usr/local/lib/python3.10/dist-packages (from pytest->-r requirements.txt (line 5)) (2.0.1)\n",
            "Requirement already satisfied: invoke>=2.0 in /usr/local/lib/python3.10/dist-packages (from fabric->colossalai->-r requirements.txt (line 1)) (2.2.0)\n",
            "Requirement already satisfied: paramiko>=2.4 in /usr/local/lib/python3.10/dist-packages (from fabric->colossalai->-r requirements.txt (line 1)) (3.4.0)\n",
            "Requirement already satisfied: decorator>=5 in /usr/local/lib/python3.10/dist-packages (from fabric->colossalai->-r requirements.txt (line 1)) (5.1.1)\n",
            "Requirement already satisfied: deprecated>=1.2 in /usr/local/lib/python3.10/dist-packages (from fabric->colossalai->-r requirements.txt (line 1)) (1.2.14)\n",
            "Requirement already satisfied: beautifulsoup4 in /usr/local/lib/python3.10/dist-packages (from google->colossalai->-r requirements.txt (line 1)) (4.12.3)\n",
            "Requirement already satisfied: MarkupSafe>=2.0 in /usr/local/lib/python3.10/dist-packages (from jinja2->torch->-r requirements.txt (line 2)) (2.1.5)\n",
            "Requirement already satisfied: cfgv>=2.0.0 in /usr/local/lib/python3.10/dist-packages (from pre-commit->colossalai->-r requirements.txt (line 1)) (3.4.0)\n",
            "Requirement already satisfied: identify>=1.0.0 in /usr/local/lib/python3.10/dist-packages (from pre-commit->colossalai->-r requirements.txt (line 1)) (2.5.35)\n",
            "Requirement already satisfied: nodeenv>=0.11.1 in /usr/local/lib/python3.10/dist-packages (from pre-commit->colossalai->-r requirements.txt (line 1)) (1.8.0)\n",
            "Requirement already satisfied: pyyaml>=5.1 in /usr/local/lib/python3.10/dist-packages (from pre-commit->colossalai->-r requirements.txt (line 1)) (6.0.1)\n",
            "Requirement already satisfied: virtualenv>=20.10.0 in /usr/local/lib/python3.10/dist-packages (from pre-commit->colossalai->-r requirements.txt (line 1)) (20.25.1)\n",
            "Requirement already satisfied: annotated-types>=0.4.0 in /usr/local/lib/python3.10/dist-packages (from pydantic->colossalai->-r requirements.txt (line 1)) (0.6.0)\n",
            "Requirement already satisfied: pydantic-core==2.16.3 in /usr/local/lib/python3.10/dist-packages (from pydantic->colossalai->-r requirements.txt (line 1)) (2.16.3)\n",
            "Requirement already satisfied: jsonschema in /usr/local/lib/python3.10/dist-packages (from ray->colossalai->-r requirements.txt (line 1)) (4.19.2)\n",
            "Requirement already satisfied: msgpack<2.0.0,>=1.0.0 in /usr/local/lib/python3.10/dist-packages (from ray->colossalai->-r requirements.txt (line 1)) (1.0.8)\n",
            "Requirement already satisfied: aiosignal in /usr/local/lib/python3.10/dist-packages (from ray->colossalai->-r requirements.txt (line 1)) (1.3.1)\n",
            "Requirement already satisfied: frozenlist in /usr/local/lib/python3.10/dist-packages (from ray->colossalai->-r requirements.txt (line 1)) (1.4.1)\n",
            "Requirement already satisfied: requests in /usr/local/lib/python3.10/dist-packages (from ray->colossalai->-r requirements.txt (line 1)) (2.31.0)\n",
            "Requirement already satisfied: markdown-it-py>=2.2.0 in /usr/local/lib/python3.10/dist-packages (from rich->colossalai->-r requirements.txt (line 1)) (3.0.0)\n",
            "Requirement already satisfied: pygments<3.0.0,>=2.13.0 in /usr/local/lib/python3.10/dist-packages (from rich->colossalai->-r requirements.txt (line 1)) (2.16.1)\n",
            "Requirement already satisfied: mpmath>=0.19 in /usr/local/lib/python3.10/dist-packages (from sympy->torch->-r requirements.txt (line 2)) (1.3.0)\n",
            "Requirement already satisfied: wrapt<2,>=1.10 in /usr/local/lib/python3.10/dist-packages (from deprecated>=1.2->fabric->colossalai->-r requirements.txt (line 1)) (1.14.1)\n",
            "Requirement already satisfied: mdurl~=0.1 in /usr/local/lib/python3.10/dist-packages (from markdown-it-py>=2.2.0->rich->colossalai->-r requirements.txt (line 1)) (0.1.2)\n",
            "Requirement already satisfied: setuptools in /usr/local/lib/python3.10/dist-packages (from nodeenv>=0.11.1->pre-commit->colossalai->-r requirements.txt (line 1)) (67.7.2)\n",
            "Requirement already satisfied: bcrypt>=3.2 in /usr/local/lib/python3.10/dist-packages (from paramiko>=2.4->fabric->colossalai->-r requirements.txt (line 1)) (4.1.2)\n",
            "Requirement already satisfied: cryptography>=3.3 in /usr/local/lib/python3.10/dist-packages (from paramiko>=2.4->fabric->colossalai->-r requirements.txt (line 1)) (42.0.5)\n",
            "Requirement already satisfied: pynacl>=1.5 in /usr/local/lib/python3.10/dist-packages (from paramiko>=2.4->fabric->colossalai->-r requirements.txt (line 1)) (1.5.0)\n",
            "Requirement already satisfied: distlib<1,>=0.3.7 in /usr/local/lib/python3.10/dist-packages (from virtualenv>=20.10.0->pre-commit->colossalai->-r requirements.txt (line 1)) (0.3.8)\n",
            "Requirement already satisfied: platformdirs<5,>=3.9.1 in /usr/local/lib/python3.10/dist-packages (from virtualenv>=20.10.0->pre-commit->colossalai->-r requirements.txt (line 1)) (4.2.0)\n",
            "Requirement already satisfied: soupsieve>1.2 in /usr/local/lib/python3.10/dist-packages (from beautifulsoup4->google->colossalai->-r requirements.txt (line 1)) (2.5)\n",
            "Requirement already satisfied: attrs>=22.2.0 in /usr/local/lib/python3.10/dist-packages (from jsonschema->ray->colossalai->-r requirements.txt (line 1)) (23.2.0)\n",
            "Requirement already satisfied: jsonschema-specifications>=2023.03.6 in /usr/local/lib/python3.10/dist-packages (from jsonschema->ray->colossalai->-r requirements.txt (line 1)) (2023.12.1)\n",
            "Requirement already satisfied: referencing>=0.28.4 in /usr/local/lib/python3.10/dist-packages (from jsonschema->ray->colossalai->-r requirements.txt (line 1)) (0.34.0)\n",
            "Requirement already satisfied: rpds-py>=0.7.1 in /usr/local/lib/python3.10/dist-packages (from jsonschema->ray->colossalai->-r requirements.txt (line 1)) (0.18.0)\n",
            "Requirement already satisfied: charset-normalizer<4,>=2 in /usr/local/lib/python3.10/dist-packages (from requests->ray->colossalai->-r requirements.txt (line 1)) (3.3.2)\n",
            "Requirement already satisfied: idna<4,>=2.5 in /usr/local/lib/python3.10/dist-packages (from requests->ray->colossalai->-r requirements.txt (line 1)) (3.6)\n",
            "Requirement already satisfied: urllib3<3,>=1.21.1 in /usr/local/lib/python3.10/dist-packages (from requests->ray->colossalai->-r requirements.txt (line 1)) (2.0.7)\n",
            "Requirement already satisfied: certifi>=2017.4.17 in /usr/local/lib/python3.10/dist-packages (from requests->ray->colossalai->-r requirements.txt (line 1)) (2024.2.2)\n",
            "Requirement already satisfied: cffi>=1.12 in /usr/local/lib/python3.10/dist-packages (from cryptography>=3.3->paramiko>=2.4->fabric->colossalai->-r requirements.txt (line 1)) (1.16.0)\n",
            "Requirement already satisfied: pycparser in /usr/local/lib/python3.10/dist-packages (from cffi>=1.12->cryptography>=3.3->paramiko>=2.4->fabric->colossalai->-r requirements.txt (line 1)) (2.22)\n"
          ]
        }
      ]
    },
    {
      "cell_type": "code",
      "source": [
        "! colossalai run --nproc_per_node 1 train.py -c ./ckpt-fp32"
      ],
      "metadata": {
        "colab": {
          "base_uri": "https://localhost:8080/"
        },
        "id": "OleimJ96n7VJ",
        "outputId": "01eb37c5-d6e9-48eb-a1c5-70af6ef96ea9"
      },
      "execution_count": 4,
      "outputs": [
        {
          "output_type": "stream",
          "name": "stdout",
          "text": [
            "/usr/local/lib/python3.10/dist-packages/colossalai/pipeline/schedule/_utils.py:19: UserWarning: torch.utils._pytree._register_pytree_node is deprecated. Please use torch.utils._pytree.register_pytree_node instead.\n",
            "  _register_pytree_node(OrderedDict, _odict_flatten, _odict_unflatten)\n",
            "/usr/local/lib/python3.10/dist-packages/torch/utils/_pytree.py:254: UserWarning: <class 'collections.OrderedDict'> is already registered as pytree node. Overwriting the previous registration.\n",
            "  warnings.warn(\n",
            "/usr/local/lib/python3.10/dist-packages/colossalai/shardformer/layer/normalization.py:45: UserWarning: Please install apex from source (https://github.com/NVIDIA/apex) to use the fused layernorm kernel\n",
            "  warnings.warn(\"Please install apex from source (https://github.com/NVIDIA/apex) to use the fused layernorm kernel\")\n",
            "/usr/local/lib/python3.10/dist-packages/colossalai/initialize.py:48: UserWarning: `config` is deprecated and will be removed soon.\n",
            "  warnings.warn(\"`config` is deprecated and will be removed soon.\")\n",
            "[04/12/24 09:26:17] INFO     colossalai - colossalai - INFO:                                        \n",
            "                             /usr/local/lib/python3.10/dist-packages/colossalai/initialize.py:67    \n",
            "                             launch                                                                 \n",
            "                    INFO     colossalai - colossalai - INFO: Distributed environment is initialized,\n",
            "                             world size: 1                                                          \n",
            "Downloading https://www.cs.toronto.edu/~kriz/cifar-10-python.tar.gz to ./data/cifar-10-python.tar.gz\n",
            "100%|██████████| 170498071/170498071 [00:06<00:00, 27918644.10it/s]\n",
            "Extracting ./data/cifar-10-python.tar.gz to ./data\n",
            "Files already downloaded and verified\n",
            "/usr/local/lib/python3.10/dist-packages/colossalai/kernel/extensions/utils.py:96: UserWarning: [extension] The CUDA version on the system (12.2) does not match with the version (12.1) torch was compiled with. The mismatch is found in the minor version. As the APIs are compatible, we will allow compilation to proceed. If you encounter any issue when using the built kernel, please try to build it again with fully matched CUDA versions\n",
            "  warnings.warn(\n",
            "[extension] Compiling the JIT cpu_adam_x86 kernel during runtime now\n",
            "[extension] Time taken to compile cpu_adam_x86 op: 37.307915449142456 seconds\n",
            "/usr/local/lib/python3.10/dist-packages/colossalai/kernel/extensions/utils.py:96: UserWarning: [extension] The CUDA version on the system (12.2) does not match with the version (12.1) torch was compiled with. The mismatch is found in the minor version. As the APIs are compatible, we will allow compilation to proceed. If you encounter any issue when using the built kernel, please try to build it again with fully matched CUDA versions\n",
            "  warnings.warn(\n",
            "[extension] Compiling the JIT fused_optim_cuda kernel during runtime now\n",
            "[extension] Time taken to compile fused_optim_cuda op: 245.48439502716064 seconds\n",
            "/usr/local/lib/python3.10/dist-packages/colossalai/nn/optimizer/hybrid_adam.py:90: UserWarning: The torch.cuda.*DtypeTensor constructors are no longer recommended. It's best to use methods such as torch.tensor(data, dtype=*, device='cuda') to create tensors. (Triggered internally at ../torch/csrc/tensor/python_tensor.cpp:83.)\n",
            "  self._dummy_overflow_buf = torch.cuda.IntTensor([0])\n",
            "Epoch [1/80]:   0%|          | 0/500 [00:00<?, ?it/s]/usr/local/lib/python3.10/dist-packages/colossalai/nn/optimizer/nvme_optimizer.py:55: UserWarning: TypedStorage is deprecated. It will be removed in the future and UntypedStorage will be the only storage class. This should only matter to you if you are using storages directly.  To access UntypedStorage directly, use tensor.untyped_storage() instead of tensor.storage()\n",
            "  numel += p.storage().size()\n",
            "Epoch [1/80]: 100%|██████████| 500/500 [00:30<00:00, 16.32it/s, loss=1.39]\n",
            "Epoch [2/80]: 100%|██████████| 500/500 [00:29<00:00, 17.11it/s, loss=1.18]\n",
            "Epoch [3/80]: 100%|██████████| 500/500 [00:29<00:00, 16.85it/s, loss=0.995]\n",
            "Epoch [4/80]: 100%|██████████| 500/500 [00:29<00:00, 17.09it/s, loss=0.955]\n",
            "Epoch [5/80]: 100%|██████████| 500/500 [00:29<00:00, 17.06it/s, loss=0.861]\n",
            "Epoch [6/80]: 100%|██████████| 500/500 [00:30<00:00, 16.55it/s, loss=0.75]\n",
            "Epoch [7/80]: 100%|██████████| 500/500 [00:29<00:00, 16.96it/s, loss=0.752]\n",
            "Epoch [8/80]: 100%|██████████| 500/500 [00:30<00:00, 16.59it/s, loss=0.714]\n",
            "Epoch [9/80]: 100%|██████████| 500/500 [00:29<00:00, 16.97it/s, loss=0.785]\n",
            "Epoch [10/80]: 100%|██████████| 500/500 [00:29<00:00, 16.84it/s, loss=0.721]\n",
            "Epoch [11/80]: 100%|██████████| 500/500 [00:30<00:00, 16.65it/s, loss=0.703]\n",
            "Epoch [12/80]: 100%|██████████| 500/500 [00:29<00:00, 16.93it/s, loss=0.684]\n",
            "Epoch [13/80]: 100%|██████████| 500/500 [00:30<00:00, 16.49it/s, loss=0.582]\n",
            "Epoch [14/80]: 100%|██████████| 500/500 [00:30<00:00, 16.51it/s, loss=0.61]\n",
            "Epoch [15/80]: 100%|██████████| 500/500 [00:30<00:00, 16.46it/s, loss=0.633]\n",
            "Epoch [16/80]: 100%|██████████| 500/500 [00:29<00:00, 16.70it/s, loss=0.431]\n",
            "Epoch [17/80]: 100%|██████████| 500/500 [00:30<00:00, 16.50it/s, loss=0.47]\n",
            "Epoch [18/80]: 100%|██████████| 500/500 [00:29<00:00, 16.94it/s, loss=0.523]\n",
            "Epoch [19/80]: 100%|██████████| 500/500 [00:29<00:00, 16.90it/s, loss=0.495]\n",
            "Epoch [20/80]: 100%|██████████| 500/500 [00:30<00:00, 16.60it/s, loss=0.5]\n",
            "Epoch [21/80]: 100%|██████████| 500/500 [00:29<00:00, 16.84it/s, loss=0.42]\n",
            "Epoch [22/80]: 100%|██████████| 500/500 [00:30<00:00, 16.61it/s, loss=0.353]\n",
            "Epoch [23/80]: 100%|██████████| 500/500 [00:29<00:00, 16.86it/s, loss=0.403]\n",
            "Epoch [24/80]: 100%|██████████| 500/500 [00:30<00:00, 16.60it/s, loss=0.329]\n",
            "Epoch [25/80]: 100%|██████████| 500/500 [00:29<00:00, 16.68it/s, loss=0.333]\n",
            "Epoch [26/80]: 100%|██████████| 500/500 [00:30<00:00, 16.62it/s, loss=0.358]\n",
            "Epoch [27/80]: 100%|██████████| 500/500 [00:30<00:00, 16.65it/s, loss=0.352]\n",
            "Epoch [28/80]: 100%|██████████| 500/500 [00:29<00:00, 16.86it/s, loss=0.231]\n",
            "Epoch [29/80]: 100%|██████████| 500/500 [00:30<00:00, 16.43it/s, loss=0.202]\n",
            "Epoch [30/80]: 100%|██████████| 500/500 [00:29<00:00, 16.76it/s, loss=0.253]\n",
            "Epoch [31/80]: 100%|██████████| 500/500 [00:30<00:00, 16.43it/s, loss=0.256]\n",
            "Epoch [32/80]: 100%|██████████| 500/500 [00:29<00:00, 16.78it/s, loss=0.305]\n",
            "Epoch [33/80]: 100%|██████████| 500/500 [00:30<00:00, 16.42it/s, loss=0.186]\n",
            "Epoch [34/80]: 100%|██████████| 500/500 [00:29<00:00, 16.75it/s, loss=0.304]\n",
            "Epoch [35/80]: 100%|██████████| 500/500 [00:29<00:00, 16.68it/s, loss=0.223]\n",
            "Epoch [36/80]: 100%|██████████| 500/500 [00:30<00:00, 16.48it/s, loss=0.256]\n",
            "Epoch [37/80]: 100%|██████████| 500/500 [00:29<00:00, 16.69it/s, loss=0.224]\n",
            "Epoch [38/80]: 100%|██████████| 500/500 [00:30<00:00, 16.40it/s, loss=0.234]\n",
            "Epoch [39/80]: 100%|██████████| 500/500 [00:29<00:00, 16.77it/s, loss=0.222]\n",
            "Epoch [40/80]: 100%|██████████| 500/500 [00:31<00:00, 15.94it/s, loss=0.215]\n",
            "Epoch [41/80]: 100%|██████████| 500/500 [00:32<00:00, 15.56it/s, loss=0.174]\n",
            "Epoch [42/80]: 100%|██████████| 500/500 [00:32<00:00, 15.32it/s, loss=0.19]\n",
            "Epoch [43/80]: 100%|██████████| 500/500 [00:32<00:00, 15.25it/s, loss=0.122]\n",
            "Epoch [44/80]: 100%|██████████| 500/500 [00:32<00:00, 15.57it/s, loss=0.163]\n",
            "Epoch [45/80]: 100%|██████████| 500/500 [00:32<00:00, 15.28it/s, loss=0.118]\n",
            "Epoch [46/80]: 100%|██████████| 500/500 [00:31<00:00, 15.69it/s, loss=0.263]\n",
            "Epoch [47/80]: 100%|██████████| 500/500 [00:32<00:00, 15.36it/s, loss=0.134]\n",
            "Epoch [48/80]: 100%|██████████| 500/500 [00:32<00:00, 15.23it/s, loss=0.15]\n",
            "Epoch [49/80]: 100%|██████████| 500/500 [00:31<00:00, 15.65it/s, loss=0.0837]\n",
            "Epoch [50/80]: 100%|██████████| 500/500 [00:32<00:00, 15.23it/s, loss=0.156]\n",
            "Epoch [51/80]: 100%|██████████| 500/500 [00:32<00:00, 15.46it/s, loss=0.142]\n",
            "Epoch [52/80]: 100%|██████████| 500/500 [00:33<00:00, 15.13it/s, loss=0.0749]\n",
            "Epoch [53/80]: 100%|██████████| 500/500 [00:33<00:00, 15.11it/s, loss=0.0496]\n",
            "Epoch [54/80]: 100%|██████████| 500/500 [00:32<00:00, 15.54it/s, loss=0.12]\n",
            "Epoch [55/80]: 100%|██████████| 500/500 [00:32<00:00, 15.22it/s, loss=0.0753]\n",
            "Epoch [56/80]: 100%|██████████| 500/500 [00:32<00:00, 15.36it/s, loss=0.0882]\n",
            "Epoch [57/80]: 100%|██████████| 500/500 [00:32<00:00, 15.21it/s, loss=0.0388]\n",
            "Epoch [58/80]: 100%|██████████| 500/500 [00:33<00:00, 15.12it/s, loss=0.0625]\n",
            "Epoch [59/80]: 100%|██████████| 500/500 [00:32<00:00, 15.34it/s, loss=0.0885]\n",
            "Epoch [60/80]: 100%|██████████| 500/500 [00:33<00:00, 15.03it/s, loss=0.164]\n",
            "Epoch [61/80]: 100%|██████████| 500/500 [00:33<00:00, 15.15it/s, loss=0.0385]\n",
            "Epoch [62/80]: 100%|██████████| 500/500 [00:32<00:00, 15.31it/s, loss=0.106]\n",
            "Epoch [63/80]: 100%|██████████| 500/500 [00:33<00:00, 15.05it/s, loss=0.0686]\n",
            "Epoch [64/80]: 100%|██████████| 500/500 [00:32<00:00, 15.24it/s, loss=0.0845]\n",
            "Epoch [65/80]: 100%|██████████| 500/500 [00:33<00:00, 15.13it/s, loss=0.0405]\n",
            "Epoch [66/80]: 100%|██████████| 500/500 [00:33<00:00, 15.01it/s, loss=0.0518]\n",
            "Epoch [67/80]: 100%|██████████| 500/500 [00:32<00:00, 15.33it/s, loss=0.0854]\n",
            "Epoch [68/80]: 100%|██████████| 500/500 [00:33<00:00, 15.01it/s, loss=0.0533]\n",
            "Epoch [69/80]: 100%|██████████| 500/500 [00:33<00:00, 14.92it/s, loss=0.112]\n",
            "Epoch [70/80]: 100%|██████████| 500/500 [00:32<00:00, 15.25it/s, loss=0.0839]\n",
            "Epoch [71/80]: 100%|██████████| 500/500 [00:33<00:00, 14.79it/s, loss=0.0734]\n",
            "Epoch [72/80]: 100%|██████████| 500/500 [00:33<00:00, 14.77it/s, loss=0.0708]\n",
            "Epoch [73/80]: 100%|██████████| 500/500 [00:33<00:00, 14.82it/s, loss=0.0381]\n",
            "Epoch [74/80]: 100%|██████████| 500/500 [00:33<00:00, 14.84it/s, loss=0.0484]\n",
            "Epoch [75/80]: 100%|██████████| 500/500 [00:34<00:00, 14.70it/s, loss=0.107]\n",
            "Epoch [76/80]: 100%|██████████| 500/500 [00:33<00:00, 14.93it/s, loss=0.0479]\n",
            "Epoch [77/80]: 100%|██████████| 500/500 [00:33<00:00, 14.87it/s, loss=0.0619]\n",
            "Epoch [78/80]: 100%|██████████| 500/500 [00:33<00:00, 14.76it/s, loss=0.0361]\n",
            "Epoch [79/80]: 100%|██████████| 500/500 [00:33<00:00, 14.99it/s, loss=0.0446]\n",
            "Epoch [80/80]: 100%|██████████| 500/500 [00:33<00:00, 14.96it/s, loss=0.0355]\n",
            "Accuracy of the model on the test images: 84.68 %\n",
            "\n",
            "====== Training on All Nodes =====\n",
            "127.0.0.1: success\n",
            "\n",
            "====== Stopping All Nodes =====\n",
            "127.0.0.1: finish\n"
          ]
        }
      ]
    },
    {
      "cell_type": "code",
      "source": [
        "! python eval.py -c ./ckpt-fp32 -e 80"
      ],
      "metadata": {
        "colab": {
          "base_uri": "https://localhost:8080/"
        },
        "id": "2q_MnFdIzF7Q",
        "outputId": "de63c00b-f6f4-4c33-d4db-f040773ac89d"
      },
      "execution_count": 5,
      "outputs": [
        {
          "output_type": "stream",
          "name": "stdout",
          "text": [
            "Accuracy of the model on the test images: 84.68 %\n"
          ]
        }
      ]
    }
  ],
  "metadata": {
    "language_info": {
      "name": "python"
    },
    "colab": {
      "provenance": [],
      "gpuType": "T4"
    },
    "kernelspec": {
      "name": "python3",
      "display_name": "Python 3"
    },
    "accelerator": "GPU"
  },
  "nbformat": 4,
  "nbformat_minor": 0
}